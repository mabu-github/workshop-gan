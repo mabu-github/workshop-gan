{
 "cells": [
  {
   "cell_type": "markdown",
   "id": "1bbd4b5d",
   "metadata": {},
   "source": [
    "# GAN Training"
   ]
  },
  {
   "cell_type": "markdown",
   "id": "571e90f4",
   "metadata": {},
   "source": [
    "## Learning Goals\n",
    "\n",
    "* Training Loop\n",
    "* Gradients\n",
    "  * Over Partial Model\n",
    "  * More than One Gradient\n",
    "* GAN Loss"
   ]
  },
  {
   "cell_type": "code",
   "execution_count": 3,
   "id": "3a482181",
   "metadata": {},
   "outputs": [],
   "source": [
    "# copy implementation from existing workshop\n",
    "\n",
    "# make blanks"
   ]
  }
 ],
 "metadata": {
  "kernelspec": {
   "display_name": "Python 3",
   "language": "python",
   "name": "python3"
  },
  "language_info": {
   "codemirror_mode": {
    "name": "ipython",
    "version": 3
   },
   "file_extension": ".py",
   "mimetype": "text/x-python",
   "name": "python",
   "nbconvert_exporter": "python",
   "pygments_lexer": "ipython3",
   "version": "3.7.10"
  }
 },
 "nbformat": 4,
 "nbformat_minor": 5
}
