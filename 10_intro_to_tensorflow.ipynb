{
 "cells": [
  {
   "cell_type": "markdown",
   "id": "667eb2cc",
   "metadata": {},
   "source": [
    "# Introduction to TensorFlow 2\n",
    "\n",
    "<img src=\"img/tf-logo.svg\" alt=\"TensorFlow Logo\" style=\"width:200px;\"/>\n",
    "\n",
    "* [Website](https://www.tensorflow.org/)\n",
    "* [Tutorials](https://www.tensorflow.org/tutorials)\n",
    "* [Guide](https://www.tensorflow.org/guide)\n",
    "* [Python API Docs](https://www.tensorflow.org/api_docs/python/tf)"
   ]
  },
  {
   "cell_type": "markdown",
   "id": "06b7005d",
   "metadata": {},
   "source": [
    "## Learning Goals\n",
    "\n",
    "TensorFlow\n",
    "* Tensor\n",
    "* Variable\n",
    "* Operation\n",
    "* Eager Execution\n",
    "* Computational Graph\n",
    "* Mapping to Devices\n",
    "\n",
    "Neural Network Training\n",
    "* Gradient Descent\n",
    "* Auto Grad\n",
    "* Training Loop\n",
    "* Model (layers are essentially functions)\n",
    "* Gradient Accumulation\n",
    "\n",
    "Neural Network Inference\n",
    "* Executing a Model"
   ]
  },
  {
   "cell_type": "code",
   "execution_count": 2,
   "id": "70916286",
   "metadata": {},
   "outputs": [],
   "source": [
    "# tbd code samples\n",
    "\n",
    "# create tensor from numpy, transfer to device, execute operation, get back numpy array\n",
    "\n",
    "# introduce variable, fit model\n",
    "\n",
    "# tf.function\n",
    "\n",
    "# training loop"
   ]
  }
 ],
 "metadata": {
  "kernelspec": {
   "display_name": "Python 3",
   "language": "python",
   "name": "python3"
  },
  "language_info": {
   "codemirror_mode": {
    "name": "ipython",
    "version": 3
   },
   "file_extension": ".py",
   "mimetype": "text/x-python",
   "name": "python",
   "nbconvert_exporter": "python",
   "pygments_lexer": "ipython3",
   "version": "3.7.10"
  }
 },
 "nbformat": 4,
 "nbformat_minor": 5
}