{
 "cells": [
  {
   "cell_type": "markdown",
   "id": "6be7d57b",
   "metadata": {},
   "source": [
    "# Building a Simple Classifier"
   ]
  },
  {
   "cell_type": "markdown",
   "id": "a49722c4",
   "metadata": {},
   "source": [
    "## Learning Goals\n",
    "\n",
    "* Ensure basic Python and TensorFlow proficiency to be able to follow the rest of the workshop"
   ]
  },
  {
   "cell_type": "code",
   "execution_count": 2,
   "id": "1d4c2e48",
   "metadata": {},
   "outputs": [],
   "source": [
    "# build a classifier model\n",
    "\n",
    "# teaser tensorboard scalars\n",
    "\n",
    "# make blanks, add functions to solutions that would fill the blanks"
   ]
  }
 ],
 "metadata": {
  "kernelspec": {
   "display_name": "Python 3",
   "language": "python",
   "name": "python3"
  },
  "language_info": {
   "codemirror_mode": {
    "name": "ipython",
    "version": 3
   },
   "file_extension": ".py",
   "mimetype": "text/x-python",
   "name": "python",
   "nbconvert_exporter": "python",
   "pygments_lexer": "ipython3",
   "version": "3.7.10"
  }
 },
 "nbformat": 4,
 "nbformat_minor": 5
}
