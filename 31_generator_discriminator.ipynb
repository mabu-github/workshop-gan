{
 "cells": [
  {
   "cell_type": "markdown",
   "id": "6ac5076a",
   "metadata": {},
   "source": [
    "# Generator & Discriminator Networks"
   ]
  },
  {
   "cell_type": "markdown",
   "id": "815e8eee",
   "metadata": {},
   "source": [
    "## Learning Goals\n",
    "\n",
    "* Network Architecture\n",
    "* Transfer of Working Example from Paper"
   ]
  },
  {
   "cell_type": "code",
   "execution_count": 2,
   "id": "98371a26",
   "metadata": {},
   "outputs": [],
   "source": [
    "# link to paper\n",
    "\n",
    "# architecture from paper\n",
    "\n",
    "# make blanks (do not remove imports)"
   ]
  }
 ],
 "metadata": {
  "kernelspec": {
   "display_name": "Python 3",
   "language": "python",
   "name": "python3"
  },
  "language_info": {
   "codemirror_mode": {
    "name": "ipython",
    "version": 3
   },
   "file_extension": ".py",
   "mimetype": "text/x-python",
   "name": "python",
   "nbconvert_exporter": "python",
   "pygments_lexer": "ipython3",
   "version": "3.7.10"
  }
 },
 "nbformat": 4,
 "nbformat_minor": 5
}
