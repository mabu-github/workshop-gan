{
 "cells": [
  {
   "cell_type": "markdown",
   "id": "7e6589b8",
   "metadata": {},
   "source": [
    "# Generator & Discriminator Networks"
   ]
  },
  {
   "cell_type": "markdown",
   "id": "e6c110fc",
   "metadata": {},
   "source": [
    "## Learning Goals\n",
    "\n",
    "* Network Architecture\n",
    "* Transfer of Working Example from Paper"
   ]
  },
  {
   "cell_type": "code",
   "execution_count": 2,
   "id": "7bb1a8a7",
   "metadata": {},
   "outputs": [],
   "source": [
    "# link to paper\n",
    "\n",
    "# architecture from paper\n",
    "\n",
    "# make blanks (do not remove imports)"
   ]
  },
  {
   "cell_type": "markdown",
   "id": "ed8a7872",
   "metadata": {},
   "source": [
    "## Theory\n",
    "\n",
    "* [Unsupervised Representation Learning with Deep Convolutional Generative Adversarial Networks](https://arxiv.org/pdf/1511.06434v2.pdf) \\[1]\n",
    "* [DC-GAN on paperswithcode](https://paperswithcode.com/method/dcgan)\n",
    "\n",
    "## Guidelines for stable Deep Convolutional GANs\n",
    "\n",
    "Excerpt from [1]:\n",
    "* Replace any pooling layers with strided convolutions (discriminator) and fractional-strided convolutions (generator).\n",
    "* Use batchnorm in both the generator and the discriminator.\n",
    "* Remove fully connected hidden layers for deeper architectures.\n",
    "* Use ReLU activation in generator for all layers except for the output, which uses Tanh.\n",
    "* Use LeakyReLU activation in the discriminator for all layers."
   ]
  },
  {
   "cell_type": "markdown",
   "id": "a4f143ea",
   "metadata": {},
   "source": [
    "## Generator\n",
    "\n",
    "Original generator architecture from [1]:\n",
    "\n",
    "<img src=\"img/dcgan-generator.png\" alt=\"DCGAN Generator\" style=\"width:600px;\" />"
   ]
  },
  {
   "cell_type": "markdown",
   "id": "40e710b9",
   "metadata": {},
   "source": [
    "Imports"
   ]
  },
  {
   "cell_type": "code",
   "execution_count": 4,
   "id": "1ab6c816",
   "metadata": {},
   "outputs": [],
   "source": [
    "from tensorflow.python.keras.engine.sequential import Sequential\n",
    "from tensorflow.python.keras.layers import Dense, Reshape, BatchNormalization, ReLU, LeakyReLU, UpSampling2D, Conv2DTranspose"
   ]
  },
  {
   "cell_type": "markdown",
   "id": "25512abb",
   "metadata": {},
   "source": [
    "Function to build the generator model"
   ]
  },
  {
   "cell_type": "code",
   "execution_count": 5,
   "id": "d7bb75c3",
   "metadata": {},
   "outputs": [],
   "source": [
    "def build_generator_net():\n",
    "    return Sequential([\n",
    "        # 100d vector to provide randomness\n",
    "        # 1/16th of original size (1/4th for height, width) as low-resolution base image\n",
    "        # capacity for 256 such base images\n",
    "        # [...]\n",
    "\n",
    "        # make it a 3d volume to be able to do convolutions\n",
    "        # [...]\n",
    "        \n",
    "        # conv to increase depth to 128, activation, normalization\n",
    "        # [...]\n",
    "\n",
    "        # upsample to 14x14, activation, normalization\n",
    "        # [...]\n",
    "\n",
    "        # upsample to 28x28, activation between -1 and 1 (matches value range after preprocessing of real images)\n",
    "        # [...]\n",
    "    ], name='generator')\n"
   ]
  },
  {
   "cell_type": "markdown",
   "id": "f4c893fb",
   "metadata": {},
   "source": [
    "Test generator model"
   ]
  },
  {
   "cell_type": "code",
   "execution_count": 3,
   "id": "ad79fb33",
   "metadata": {},
   "outputs": [
    {
     "name": "stdout",
     "output_type": "stream",
     "text": [
      "(1, 28, 28, 1)\n"
     ]
    },
    {
     "data": {
      "image/png": "[encoded data removed]",
      "text/plain": [
       "<Figure size 432x288 with 1 Axes>"
      ]
     },
     "metadata": {
      "needs_background": "light"
     },
     "output_type": "display_data"
    }
   ],
   "source": [
    "import matplotlib.pyplot as plt\n",
    "import numpy as np\n",
    "from solutions.generator_net import build_generator_net_sln\n",
    "\n",
    "\n",
    "# use your implementation\n",
    "generator = build_generator_net_sln()\n",
    "\n",
    "noise = np.random.normal(size=(1, 100)).astype(np.float32)\n",
    "generated = generator(noise, training=False)\n",
    "\n",
    "print(generated.shape)\n",
    "plt.imshow(generated.numpy()[0, :, :, 0], cmap='gray')\n",
    "plt.show()"
   ]
  },
  {
   "cell_type": "markdown",
   "id": "dcf729ed",
   "metadata": {},
   "source": [
    "# Discriminator\n",
    "\n",
    "The discriminator is basically a binary classifier that outputs whether an image is real or fake."
   ]
  },
  {
   "cell_type": "markdown",
   "id": "311986e4",
   "metadata": {},
   "source": [
    "Imports"
   ]
  },
  {
   "cell_type": "code",
   "execution_count": 8,
   "id": "1e58427f",
   "metadata": {},
   "outputs": [],
   "source": [
    "from tensorflow.python.keras.engine.sequential import Sequential\n",
    "from tensorflow.python.keras.layers import Dense, LeakyReLU, Conv2D, Dropout, Flatten"
   ]
  },
  {
   "cell_type": "markdown",
   "id": "d1a7d88f",
   "metadata": {},
   "source": [
    "Function to build the discriminator model"
   ]
  },
  {
   "cell_type": "code",
   "execution_count": 8,
   "id": "8d3dbd57",
   "metadata": {},
   "outputs": [],
   "source": [
    "def build_discriminator_net():\n",
    "    return Sequential([\n",
    "        # strided conv on input shape 28x28x1, activation, dropout\n",
    "        # [...]\n",
    "\n",
    "        # strided conv on shape 14x14, activation, dropout\n",
    "        # [...]\n",
    "\n",
    "        # binary output probability between 0 and 1\n",
    "        # [...]\n",
    "    ], name='discriminator')\n"
   ]
  },
  {
   "cell_type": "markdown",
   "id": "2612adb0",
   "metadata": {},
   "source": [
    "Test discriminator model"
   ]
  },
  {
   "cell_type": "code",
   "execution_count": 3,
   "id": "a52fea5c",
   "metadata": {},
   "outputs": [
    {
     "name": "stdout",
     "output_type": "stream",
     "text": [
      "0.49922895\n"
     ]
    }
   ],
   "source": [
    "import numpy as np\n",
    "from solutions.generator_net import build_generator_net_sln\n",
    "from solutions.discriminator_net import build_discriminator_net_sln\n",
    "\n",
    "\n",
    "# use your implementation\n",
    "generator = build_generator_net_sln()\n",
    "discriminator = build_discriminator_net_sln()\n",
    "\n",
    "noise = np.random.normal(size=(1, 100)).astype(np.float32)\n",
    "generated = generator(noise, training=False)\n",
    "\n",
    "real_or_fake = discriminator(generated)\n",
    "print(real_or_fake.numpy()[0][0])"
   ]
  }
 ],
 "metadata": {
  "kernelspec": {
   "display_name": "Python 3",
   "language": "python",
   "name": "python3"
  },
  "language_info": {
   "codemirror_mode": {
    "name": "ipython",
    "version": 3
   },
   "file_extension": ".py",
   "mimetype": "text/x-python",
   "name": "python",
   "nbconvert_exporter": "python",
   "pygments_lexer": "ipython3",
   "version": "3.7.10"
  }
 },
 "nbformat": 4,
 "nbformat_minor": 5
}
