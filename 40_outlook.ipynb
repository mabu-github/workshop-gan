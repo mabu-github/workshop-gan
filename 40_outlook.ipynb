{
 "cells": [
  {
   "cell_type": "markdown",
   "id": "93a8a2bf",
   "metadata": {},
   "source": [
    "# Outlook"
   ]
  },
  {
   "cell_type": "markdown",
   "id": "2a189d08",
   "metadata": {},
   "source": [
    "## Learning Goals\n",
    "\n",
    "* Beyond MNIST\n",
    "* Use Cases\n",
    "  * [Cycle GAN](https://junyanz.github.io/CycleGAN/) (Image to Image Translation, self-supervised)\n",
    "  * [This Person Does Not Exist](https://thispersondoesnotexist.com/)\n",
    "  * [Inpainting](https://www.nvidia.com/en-us/research/ai-playground/)\n",
    "  * [Pix2Pix](https://phillipi.github.io/pix2pix/) (Image to Image Translation, coupled data)\n",
    "  * [BigGAN](https://medium.com/syncedreview/biggan-a-new-state-of-the-art-in-image-synthesis-cf2ec5694024) (Image Synthesis)\n",
    "  * [TecoGAN](https://ge.in.tum.de/publications/2019-tecogan-chu/) (Super Resolution, temporal consistency)\n",
    "  * [Making Anonymized Data More Natural](https://brighter.ai/) (Anonymization)\n",
    "  * [DeOldify](https://github.com/jantic/DeOldify) (Image Colorization)"
   ]
  },
  {
   "cell_type": "markdown",
   "id": "bbf559e1",
   "metadata": {},
   "source": [
    "tbd architectures (e.g. cycle consistency)\n",
    "\n",
    "tbd images"
   ]
  }
 ],
 "metadata": {
  "kernelspec": {
   "display_name": "Python 3",
   "language": "python",
   "name": "python3"
  },
  "language_info": {
   "codemirror_mode": {
    "name": "ipython",
    "version": 3
   },
   "file_extension": ".py",
   "mimetype": "text/x-python",
   "name": "python",
   "nbconvert_exporter": "python",
   "pygments_lexer": "ipython3",
   "version": "3.7.10"
  }
 },
 "nbformat": 4,
 "nbformat_minor": 5
}
