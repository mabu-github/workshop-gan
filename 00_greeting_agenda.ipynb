{
 "cells": [
  {
   "cell_type": "markdown",
   "id": "d3e64b84",
   "metadata": {},
   "source": [
    "# Welcome to the Generative Adversarial Network Workshop"
   ]
  },
  {
   "cell_type": "markdown",
   "id": "11afb393",
   "metadata": {},
   "source": [
    "## Tutors\n",
    "\n",
    "Jonas Mayer, tbd mail, image\n",
    "Mathias Burger, tbd mail, image"
   ]
  },
  {
   "cell_type": "markdown",
   "id": "c137b93e",
   "metadata": {},
   "source": [
    "## GANs at TNG Technology Consulting\n",
    "\n",
    "tbd teaser"
   ]
  },
  {
   "cell_type": "code",
   "execution_count": 4,
   "id": "811064a7",
   "metadata": {
    "jupyter": {
     "source_hidden": true
    },
    "tags": []
   },
   "outputs": [
    {
     "data": {
      "text/html": [
       "<style>\n",
       "table {float:left}\n",
       "</style>\n"
      ],
      "text/plain": [
       "<IPython.core.display.HTML object>"
      ]
     },
     "metadata": {},
     "output_type": "display_data"
    }
   ],
   "source": [
    "%%html\n",
    "<style>\n",
    "table {float:left}\n",
    "</style>"
   ]
  },
  {
   "cell_type": "markdown",
   "id": "5cf249de",
   "metadata": {},
   "source": [
    "## Agenda\n",
    "\n",
    "Total time: 3hrs\n",
    "\n",
    "| Topic | Time Slot |\n",
    "| --- | --- |\n",
    "| Introduction to TensorFlow | 10min |\n",
    "| Exploring the Dataset | 10min |\n",
    "| TensorFlow Basics | 20min |\n",
    "| Introduction to GANs | 15min |\n",
    "| Coffee Break | 10min |\n",
    "| Building Generator and Discriminator Networks | 20+20min |\n",
    "| GAN Training | 30min |\n",
    "| Outlook | 30min |\n"
   ]
  },
  {
   "cell_type": "markdown",
   "id": "b50758f5",
   "metadata": {},
   "source": [
    "## Learning Goals\n",
    "\n",
    "* Use Cases for Generative Adversarial Networks\n",
    "* Basic TensorFlow Knowledge\n",
    "* Understanding the Principles of Generative Adversarial Networks\n",
    "* Outlook on State of the Art GANs"
   ]
  }
 ],
 "metadata": {
  "kernelspec": {
   "display_name": "Python 3",
   "language": "python",
   "name": "python3"
  },
  "language_info": {
   "codemirror_mode": {
    "name": "ipython",
    "version": 3
   },
   "file_extension": ".py",
   "mimetype": "text/x-python",
   "name": "python",
   "nbconvert_exporter": "python",
   "pygments_lexer": "ipython3",
   "version": "3.7.10"
  }
 },
 "nbformat": 4,
 "nbformat_minor": 5
}
