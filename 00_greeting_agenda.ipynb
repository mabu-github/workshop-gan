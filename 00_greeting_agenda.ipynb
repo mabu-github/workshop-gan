{
 "cells": [
  {
   "cell_type": "markdown",
   "id": "9e24283e",
   "metadata": {},
   "source": [
    "# Welcome to the Generative Adversarial Network Workshop"
   ]
  },
  {
   "cell_type": "markdown",
   "id": "dcdb55d7",
   "metadata": {},
   "source": [
    "## Tutors\n",
    "\n",
    "Jonas Mayer, tbd mail, image\n",
    "Mathias Burger, tbd mail, image"
   ]
  },
  {
   "cell_type": "markdown",
   "id": "a272c25b",
   "metadata": {},
   "source": [
    "## GANs at TNG Technology Consulting\n",
    "\n",
    "tbd teaser"
   ]
  },
  {
   "cell_type": "code",
   "execution_count": 3,
   "id": "843c068e",
   "metadata": {
    "jupyter": {
     "source_hidden": true
    },
    "tags": []
   },
   "outputs": [
    {
     "data": {
      "text/html": [
       "<style>\n",
       "table {float:left}\n",
       "</style>\n"
      ],
      "text/plain": [
       "<IPython.core.display.HTML object>"
      ]
     },
     "metadata": {},
     "output_type": "display_data"
    }
   ],
   "source": [
    "%%html\n",
    "<style>\n",
    "table {float:left}\n",
    "</style>"
   ]
  },
  {
   "cell_type": "markdown",
   "id": "f59d9232",
   "metadata": {},
   "source": [
    "## Agenda\n",
    "\n",
    "Total time: 3hrs\n",
    "\n",
    "| Topic | Time Slot |\n",
    "| --- | --- |\n",
    "| Introduction to TensorFlow | 10min |\n",
    "| TensorFlow Basics | 20min |\n",
    "| Introduction to GANs | 15min |\n",
    "| Exploring the Dataset | 10min |\n",
    "| Coffee Break | 10min |\n",
    "| Building Generator and Discriminator Networks | 20+20min |\n",
    "| GAN Training | 30min |\n",
    "| Outlook | 30min |\n"
   ]
  },
  {
   "cell_type": "markdown",
   "id": "8465cbff",
   "metadata": {},
   "source": [
    "## Learning Goals\n",
    "\n",
    "* Use Cases for Generative Adversarial Networks\n",
    "* Basic TensorFlow Knowledge\n",
    "* Understanding the Principles of Generative Adversarial Networks\n",
    "* Outlook on State of the Art GANs"
   ]
  }
 ],
 "metadata": {
  "kernelspec": {
   "display_name": "Python 3",
   "language": "python",
   "name": "python3"
  },
  "language_info": {
   "codemirror_mode": {
    "name": "ipython",
    "version": 3
   },
   "file_extension": ".py",
   "mimetype": "text/x-python",
   "name": "python",
   "nbconvert_exporter": "python",
   "pygments_lexer": "ipython3",
   "version": "3.7.10"
  }
 },
 "nbformat": 4,
 "nbformat_minor": 5
}
