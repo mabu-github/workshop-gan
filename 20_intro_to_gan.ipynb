{
 "cells": [
  {
   "cell_type": "markdown",
   "id": "8c494cd6",
   "metadata": {},
   "source": [
    "# Introduction to Generative Adversarial Networks"
   ]
  },
  {
   "cell_type": "markdown",
   "id": "b5d8ddfd",
   "metadata": {},
   "source": [
    "## Learning Goals\n",
    "\n",
    "* Motivation\n",
    "* Generative Models\n",
    "* Adversarial Game\n",
    "* Understanding Equilibrium\n",
    "  * Mode Collapse\n",
    "* GAN Loss"
   ]
  }
 ],
 "metadata": {
  "kernelspec": {
   "display_name": "Python 3",
   "language": "python",
   "name": "python3"
  },
  "language_info": {
   "codemirror_mode": {
    "name": "ipython",
    "version": 3
   },
   "file_extension": ".py",
   "mimetype": "text/x-python",
   "name": "python",
   "nbconvert_exporter": "python",
   "pygments_lexer": "ipython3",
   "version": "3.7.10"
  }
 },
 "nbformat": 4,
 "nbformat_minor": 5
}
