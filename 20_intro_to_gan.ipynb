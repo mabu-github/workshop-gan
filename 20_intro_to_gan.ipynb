{
 "cells": [
  {
   "cell_type": "markdown",
   "id": "fc9a37f0",
   "metadata": {},
   "source": [
    "# Introduction to Generative Adversarial Networks"
   ]
  },
  {
   "cell_type": "markdown",
   "id": "2bed6096",
   "metadata": {},
   "source": [
    "## Learning Goals\n",
    "\n",
    "* Motivation\n",
    "* Generative Models\n",
    "* Adversarial Game\n",
    "* Understanding Equilibrium\n",
    "  * Mode Collapse\n",
    "* GAN Loss"
   ]
  },
  {
   "cell_type": "markdown",
   "id": "e0731c4f",
   "metadata": {},
   "source": [
    "# What we had so far: Classifier\n",
    "\n",
    "A simple classifier does simple stuff. The neural network receives an image as an input, extracts information and outputs a class label.\n",
    "\n",
    "<img src=\"img/classifier.jpeg\" alt=\"drawing\" width=\"600\"/>"
   ]
  },
  {
   "cell_type": "markdown",
   "id": "e2fb66e8",
   "metadata": {},
   "source": [
    "# Generative Models\n",
    "\n",
    "Generative Models work the other way around. It receives an input of initial entropy (often a vector of random values) and has to extrapolate an entire image from it. \n",
    "\n",
    "<img src=\"img/generative_model.jpeg\" alt=\"drawing\" width=\"600\"/>"
   ]
  },
  {
   "cell_type": "markdown",
   "id": "9992c7fb",
   "metadata": {},
   "source": [
    "# Generative Adversarial Networks\n",
    "\n",
    "GANs do even more cool stuff\n",
    "\n",
    "<img src=\"img/gan_illustration.jpeg\" alt=\"drawing\" width=\"600\"/>"
   ]
  },
  {
   "cell_type": "markdown",
   "id": "e4275115",
   "metadata": {},
   "source": [
    "# Adversarial Game\n",
    "\n",
    "It's pretty epic, like street fighter and shit.\n",
    "\n",
    "\n",
    "<img src=\"img/generator_vs_discriminator.gif\" alt=\"drawing\" width=\"600\"/>"
   ]
  }
 ],
 "metadata": {
  "kernelspec": {
   "display_name": "Python 3",
   "language": "python",
   "name": "python3"
  },
  "language_info": {
   "codemirror_mode": {
    "name": "ipython",
    "version": 3
   },
   "file_extension": ".py",
   "mimetype": "text/x-python",
   "name": "python",
   "nbconvert_exporter": "python",
   "pygments_lexer": "ipython3",
   "version": "3.7.10"
  }
 },
 "nbformat": 4,
 "nbformat_minor": 5
}
